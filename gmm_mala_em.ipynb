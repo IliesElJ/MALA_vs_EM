{
 "cells": [
  {
   "cell_type": "code",
   "execution_count": 1,
   "id": "df5e29a3",
   "metadata": {
    "pycharm": {
     "name": "#%%\n"
    }
   },
   "outputs": [
    {
     "name": "stderr",
     "output_type": "stream",
     "text": [
      "C:\\ProgramData\\Anaconda3\\lib\\site-packages\\scipy\\__init__.py:155: UserWarning: A NumPy version >=1.18.5 and <1.25.0 is required for this version of SciPy (detected version 1.26.2\n",
      "  warnings.warn(f\"A NumPy version >={np_minversion} and <{np_maxversion}\"\n"
     ]
    }
   ],
   "source": [
    "import numpy as np \n",
    "import seaborn as sns\n",
    "import matplotlib.pyplot as plt"
   ]
  },
  {
   "cell_type": "markdown",
   "id": "4758e6cd",
   "metadata": {
    "pycharm": {
     "name": "#%% md\n"
    }
   },
   "source": [
    "## Data Generation"
   ]
  },
  {
   "cell_type": "code",
   "execution_count": 2,
   "id": "cdfacffb",
   "metadata": {
    "pycharm": {
     "name": "#%%\n"
    }
   },
   "outputs": [
    {
     "name": "stdout",
     "output_type": "stream",
     "text": [
      "Synthetic dataset shape: (256, 8)\n"
     ]
    }
   ],
   "source": [
    "def generate_isotropic_gmm_data(d, N, scale_factor=1.0):\n",
    "    M = int(np.log2(d))\n",
    "    R = 2 * np.abs(np.log2(d))\n",
    "    means = np.random.uniform(-R, R, size=(M, d))\n",
    "    covariances = np.eye(d) * scale_factor\n",
    "    weights = np.ones(M) / M\n",
    "    \n",
    "    # generate our data points\n",
    "    data = []\n",
    "    for _ in range(N):\n",
    "        # choose the mixture component\n",
    "        mixture_idx = np.random.choice(M, p=weights)\n",
    "        mean = means[mixture_idx]\n",
    "        data.append(np.random.multivariate_normal(mean, covariances)) #d et pas 1/d? \n",
    "    \n",
    "    return np.array(data), means\n",
    "\n",
    "d = 8\n",
    "n_comp = int(np.log2(d))\n",
    "N = 2**d\n",
    "scale_factor = 1.0\n",
    "synthetic_data, true_means = generate_isotropic_gmm_data(d, N, scale_factor)\n",
    "print(\"Synthetic dataset shape:\", synthetic_data.shape)"
   ]
  },
  {
   "cell_type": "code",
   "execution_count": 3,
   "id": "71232eaa",
   "metadata": {},
   "outputs": [],
   "source": [
    "R = 2 * np.abs(np.log2(d))\n",
    "means = np.random.uniform(-R, R, size=(3, 8))"
   ]
  },
  {
   "cell_type": "code",
   "execution_count": 4,
   "id": "de61284a",
   "metadata": {},
   "outputs": [
    {
     "data": {
      "text/plain": [
       "(3, 8)"
      ]
     },
     "execution_count": 4,
     "metadata": {},
     "output_type": "execute_result"
    }
   ],
   "source": [
    "means.shape"
   ]
  },
  {
   "cell_type": "code",
   "execution_count": 5,
   "id": "a734dbfa",
   "metadata": {
    "pycharm": {
     "name": "#%%\n"
    }
   },
   "outputs": [
    {
     "data": {
      "text/plain": [
       "<matplotlib.collections.PathCollection at 0x290c9867d90>"
      ]
     },
     "execution_count": 5,
     "metadata": {},
     "output_type": "execute_result"
    },
    {
     "data": {
      "image/png": "[encoded data removed]",
      "text/plain": [
       "<Figure size 640x480 with 1 Axes>"
      ]
     },
     "metadata": {},
     "output_type": "display_data"
    }
   ],
   "source": [
    "plt.scatter(synthetic_data[:, 0], synthetic_data[:, 1])"
   ]
  },
  {
   "cell_type": "code",
   "execution_count": 6,
   "id": "19a96f5e",
   "metadata": {},
   "outputs": [
    {
     "data": {
      "text/plain": [
       "array([ 4.85894115,  5.63143161,  2.73435175,  4.08531828, -3.62722975,\n",
       "        4.2516135 ,  6.10392122,  1.35856624,  4.76808034, -3.52297045,\n",
       "        2.75880773, -2.23454188,  2.94780145, -2.51159751, -4.15371122,\n",
       "        2.70456664,  2.26261964,  3.23449436, -3.69792604, -3.35008099,\n",
       "        2.33785586, -1.32493035,  2.07680832,  3.55397005,  3.91727614,\n",
       "        3.53125624,  2.14167163,  5.26764046, -1.42899501,  3.01670714,\n",
       "        4.00708526, -2.11608187,  2.08322536,  4.73323112,  1.9415311 ,\n",
       "       -2.75506293,  5.00820955, -3.84387757,  4.01065566,  4.59841954,\n",
       "        2.90202841,  2.16604608,  0.71336187,  1.96092901,  2.43437147,\n",
       "       -2.675792  ,  2.63934234,  0.73734865,  5.50045074, -2.65457382,\n",
       "       -4.55956032, -1.94106676,  2.09187771, -3.67035789, -2.311441  ,\n",
       "        4.05562135,  4.43961952, -2.09441075,  2.9671126 , -3.15970463,\n",
       "        3.29658933,  3.79234431, -1.28118331,  4.50836411,  2.17821477,\n",
       "        2.70671185, -3.89557722,  3.23050457,  3.40044071,  3.20140789,\n",
       "       -2.90888331,  3.26392814,  3.40020679, -4.29002833, -3.23247408,\n",
       "        3.69577796, -1.50920522, -1.95129625,  4.6355845 ,  2.07144882,\n",
       "        4.14662494, -3.53777798,  2.66738352,  1.99672307,  4.6409214 ,\n",
       "        4.40173557, -3.83132339,  0.29053813,  4.10629065,  3.26304772,\n",
       "        3.04764952, -2.61294993,  5.31136162, -2.92539823,  1.01344634,\n",
       "       -5.01941745, -1.21702837,  3.30922875,  3.50167061,  1.84191071,\n",
       "       -3.30378293,  3.04942587,  2.32960013, -4.67114458, -2.21905441,\n",
       "        1.94750731,  1.86591049, -2.66466265,  2.87086483,  3.06010612,\n",
       "        4.06536385,  4.31243401,  4.32961406, -3.51932498,  2.65528674,\n",
       "       -2.59163071,  3.50482492,  4.06900612,  2.38348342,  5.53184148,\n",
       "        5.0480729 , -2.64063322,  5.80091992, -1.50115784, -3.1159328 ,\n",
       "        1.11842695,  3.19157076,  4.11739497,  3.78782098,  3.93453225,\n",
       "        4.30699821,  1.99454382,  1.77040231,  4.40901702,  3.79357881,\n",
       "        2.07131883, -1.0208358 ,  2.58356582,  4.40125743,  1.56654426,\n",
       "        5.17749939,  5.57198961, -1.47133637, -2.28084345,  3.75552425,\n",
       "       -3.21985373,  4.53739752,  3.46953447, -3.33969462, -3.60295367,\n",
       "        4.06717155,  3.04059391,  4.36285172,  3.17567925, -3.69911078,\n",
       "        2.59109715, -1.97473262, -1.43621914,  2.31948336, -1.92716617,\n",
       "        3.62336766, -2.0218334 ,  5.17304531, -3.98279643,  2.40466617,\n",
       "       -4.09190343,  2.2617329 ,  3.92878573,  5.2872076 ,  0.10300837,\n",
       "        2.0223199 , -2.29943988,  4.8881178 ,  3.87598343, -2.61777725,\n",
       "        1.27877447,  2.77938092, -2.90479115,  3.91970874,  4.04048075,\n",
       "        3.01063131,  3.72248041,  3.54879131,  2.15020043, -1.96013295,\n",
       "        1.30915266,  2.4221224 , -2.43122664,  3.9374183 , -0.02177175,\n",
       "        3.75897951,  4.12941658, -2.98367445,  5.17346799, -1.7629855 ,\n",
       "       -3.63106875,  4.84726522,  4.56014278,  1.28985193,  4.87297778,\n",
       "        0.86812388,  2.0645521 ,  2.2734047 ,  2.41510618, -2.02514191,\n",
       "       -2.72159544,  3.93247408, -0.99043066, -2.56272938, -3.79559065,\n",
       "       -2.45445627,  1.69953674, -2.40299374, -4.79792968,  3.87947182,\n",
       "        4.51206552,  4.55339487, -1.7005535 , -1.8089479 ,  3.56099786,\n",
       "        2.70317244,  3.52164148,  1.93711389, -2.80052944,  4.73864096,\n",
       "        6.47539471,  3.09569229,  2.72805842, -3.64758686,  1.61521407,\n",
       "        1.85146189,  5.3194732 , -3.33406053,  2.33774545,  5.08429818,\n",
       "       -1.79336878, -3.91742949, -2.66247909,  3.58260248,  2.3957285 ,\n",
       "        2.76251325,  4.19503042,  3.64752287, -0.53339213,  6.03930407,\n",
       "       -3.33639316, -1.94167684, -3.62086273,  2.45485527,  2.75537998,\n",
       "        4.03009565,  1.5347717 ,  3.91178066,  3.02190197,  2.71220256,\n",
       "        5.5172239 ])"
      ]
     },
     "execution_count": 6,
     "metadata": {},
     "output_type": "execute_result"
    }
   ],
   "source": [
    "synthetic_data[:,0]"
   ]
  },
  {
   "cell_type": "markdown",
   "id": "3cba1e96",
   "metadata": {
    "pycharm": {
     "name": "#%% md\n"
    }
   },
   "source": [
    "## EM algorithm"
   ]
  },
  {
   "cell_type": "markdown",
   "id": "4cc9317d",
   "metadata": {
    "pycharm": {
     "name": "#%% md\n"
    }
   },
   "source": [
    "### Expectation-Maximization Algorithm for Gaussian Mixture Models\n",
    "\n",
    "The Expectation-Maximization (EM) algorithm is an iterative method for finding the maximum likelihood estimates of parameters in statistical models, particularly useful for unsupervised learning tasks like clustering. In the context of Gaussian Mixture Models (GMM), the EM algorithm iteratively optimizes the parameters of multiple Gaussian distributions to fit the observed data.\n",
    "\n",
    "#### Algorithm Steps:\n",
    "\n",
    "1. **Initialization**: Start by initializing the parameters of the Gaussian components: means, covariances, and mixing coefficients.\n",
    "\n",
    "2. **Expectation Step (E-step)**:\n",
    "   - Compute the responsibilities (likelihoods) of each data point belonging to each Gaussian component.\n",
    "   - Responsibilities are computed based on the current parameters using the multivariate normal distribution.\n",
    "\n",
    "3. **Maximization Step (M-step)**:\n",
    "   - Update the parameters (means, covariances, and mixing coefficients) using the responsibilities computed in the E-step.\n",
    "   - Expressions for updating parameters:\n",
    "     - **Means**: Weighted average of data points using responsibilities.\n",
    "     - **Covariances**: Weighted covariance matrix of data points using responsibilities.\n",
    "     - **Mixing Coefficients**: Mean of responsibilities.\n",
    "\n",
    "4. **Compute Log-Likelihood**:\n",
    "   - Compute the log-likelihood of the data given the current parameters and responsibilities.\n",
    "   - Log-likelihood serves as a measure of how well the model fits the data.\n",
    "\n",
    "5. **Convergence Check**:\n",
    "   - Iterate between the E-step and M-step until convergence, typically based on a convergence criterion such as changes in log-likelihood or parameter values.\n",
    "\n",
    "#### Expressions for Updating Parameters:\n",
    "\n",
    "- **Means**: \n",
    "\n",
    "$$ \\mu_k = \\frac{\\sum_{i=1}^{N} \\gamma(z_{ik}) \\cdot x_i}{\\sum_{i=1}^{N} \\gamma(z_{ik})} $$\n",
    "\n",
    "- **Covariances**:\n",
    "  $$ \\Sigma_k = \\frac{\\sum_{i=1}^{N} \\gamma(z_{ik}) \\cdot (x_i - \\mu_k)(x_i - \\mu_k)^T}{\\sum_{i=1}^{N} \\gamma(z_{ik})} $$\n",
    "\n",
    "- **Mixing Coefficients**:\n",
    "  $$ \\pi_k = \\frac{\\sum_{i=1}^{N} \\gamma(z_{ik})}{N} $$\n",
    "\n",
    "Here, $ \\gamma(z_{ik}) $ represents the responsibility of data point $ x_i $ belonging to Gaussian component $ k $.\n",
    "\n"
   ]
  },
  {
   "cell_type": "code",
   "execution_count": 7,
   "id": "62c2eb56",
   "metadata": {
    "pycharm": {
     "name": "#%%\n"
    }
   },
   "outputs": [
    {
     "name": "stdout",
     "output_type": "stream",
     "text": [
      "Likelihood difference: inf\n",
      "Likelihood difference: 3.1086244689504383e-15\n",
      "Likelihood difference: -3.3306690738754676e-16\n",
      "Likelihood difference: -1.1102230246251565e-16\n",
      "Likelihood difference: 4.440892098500626e-16\n",
      "Likelihood difference: 2.220446049250313e-16\n",
      "Likelihood difference: -5.551115123125783e-16\n",
      "Likelihood difference: 7.771561172376096e-16\n",
      "Likelihood difference: -1.1102230246251565e-15\n",
      "Likelihood difference: -5.551115123125783e-16\n",
      "Likelihood difference: 1.1102230246251565e-15\n",
      "Likelihood difference: 7.771561172376095e-16\n",
      "Likelihood difference: -2.220446049250312e-16\n",
      "Likelihood difference: -1.1102230246251565e-15\n",
      "Likelihood difference: 7.771561172376096e-16\n",
      "Likelihood difference: -3.3306690738754696e-16\n",
      "Likelihood difference: -3.3306690738754696e-16\n",
      "Likelihood difference: 4.440892098500626e-16\n",
      "Likelihood difference: -1.1102230246251565e-16\n",
      "Likelihood difference: -2.220446049250313e-16\n",
      "Likelihood difference: -3.3306690738754696e-16\n",
      "Likelihood difference: 5.551115123125783e-16\n",
      "Likelihood difference: 3.3306690738754696e-16\n",
      "Likelihood difference: 2.220446049250313e-16\n",
      "Likelihood difference: -4.440892098500626e-16\n",
      "Likelihood difference: -1.1102230246251565e-16\n",
      "Likelihood difference: -1.1102230246251565e-16\n",
      "Likelihood difference: 1.1102230246251565e-16\n",
      "Likelihood difference: 2.220446049250313e-16\n",
      "Likelihood difference: -1.1102230246251565e-15\n",
      "Likelihood difference: 1.7763568394002505e-15\n",
      "Likelihood difference: -5.551115123125783e-16\n",
      "Likelihood difference: 8.881784197001252e-16\n",
      "Likelihood difference: -1.3322676295501878e-15\n",
      "Likelihood difference: 1.1102230246251565e-16\n",
      "Likelihood difference: 0.0\n",
      "Means: [[ 2.82256216  3.72702775  1.56627636  1.50306266  5.48765872 -5.23341079\n",
      "  -0.59475157 -1.02634069]\n",
      " [ 2.57583397  4.22895525  1.07145912  2.23256159  5.82193776 -4.86979733\n",
      "  -0.16750762 -1.74798222]\n",
      " [ 0.5595525   2.45997631  4.19127277  3.27064658 -3.16272554  0.83913899\n",
      "   0.85298938 -2.96854934]]\n",
      "Covariances: [array([[ 0.75701351, -0.2202554 , -0.38758461, -0.45136261,  0.27684281,\n",
      "         0.44244874, -0.47603266,  0.17961462],\n",
      "       [-0.2202554 ,  1.59761986,  0.22086099, -0.15774044, -0.07954607,\n",
      "         0.3710408 , -0.1626434 ,  0.0439965 ],\n",
      "       [-0.38758461,  0.22086099,  1.54648575,  0.33593583, -0.68789248,\n",
      "         0.10639879,  0.04146966,  0.24390924],\n",
      "       [-0.45136261, -0.15774044,  0.33593583,  1.00758505, -0.30137831,\n",
      "        -0.162255  , -0.0194843 , -0.13970641],\n",
      "       [ 0.27684281, -0.07954607, -0.68789248, -0.30137831,  0.8416361 ,\n",
      "        -0.24787545, -0.23889888, -0.43440205],\n",
      "       [ 0.44244874,  0.3710408 ,  0.10639879, -0.162255  , -0.24787545,\n",
      "         0.90164132, -0.27277161,  0.53432355],\n",
      "       [-0.47603266, -0.1626434 ,  0.04146966, -0.0194843 , -0.23889888,\n",
      "        -0.27277161,  1.23129747,  0.30759374],\n",
      "       [ 0.17961462,  0.0439965 ,  0.24390924, -0.13970641, -0.43440205,\n",
      "         0.53432355,  0.30759374,  0.74712268]]), array([[ 1.03698264, -0.17199869,  0.0993856 ,  0.10469687, -0.10423257,\n",
      "        -0.35885082, -0.02055891, -0.34700542],\n",
      "       [-0.17199869,  0.79750348,  0.0290894 , -0.0938549 ,  0.048038  ,\n",
      "         0.0493512 ,  0.03539186,  0.01316946],\n",
      "       [ 0.0993856 ,  0.0290894 ,  0.760662  ,  0.13894077,  0.01534631,\n",
      "         0.13040948,  0.0121454 ,  0.01246637],\n",
      "       [ 0.10469687, -0.0938549 ,  0.13894077,  0.71210827, -0.19613689,\n",
      "        -0.10603909, -0.05304622,  0.12840045],\n",
      "       [-0.10423257,  0.048038  ,  0.01534631, -0.19613689,  1.05832126,\n",
      "         0.02598904,  0.08003139, -0.22003516],\n",
      "       [-0.35885082,  0.0493512 ,  0.13040948, -0.10603909,  0.02598904,\n",
      "         0.87291958,  0.03260703,  0.07140165],\n",
      "       [-0.02055891,  0.03539186,  0.0121454 , -0.05304622,  0.08003139,\n",
      "         0.03260703,  0.52910361,  0.05613591],\n",
      "       [-0.34700542,  0.01316946,  0.01246637,  0.12840045, -0.22003516,\n",
      "         0.07140165,  0.05613591,  1.05158319]]), array([[ 13.23578113,  -6.31817293,  -5.54980702,  -7.82612089,\n",
      "          3.30936159,  13.33846813,  -4.42151634, -10.73718742],\n",
      "       [ -6.31817293,   4.07367076,   2.88046386,   4.0462247 ,\n",
      "         -1.60507727,  -7.00284374,   2.36216979,   5.69961693],\n",
      "       [ -5.54980702,   2.88046386,   3.53105378,   3.56958716,\n",
      "         -1.61272005,  -6.01068341,   1.98126078,   4.88498251],\n",
      "       [ -7.82612089,   4.0462247 ,   3.56958716,   5.81498177,\n",
      "         -2.21453843,  -8.52491402,   2.9212637 ,   6.85314766],\n",
      "       [  3.30936159,  -1.60507727,  -1.61272005,  -2.21453843,\n",
      "          1.75952189,   3.57557805,  -1.20684664,  -2.97439786],\n",
      "       [ 13.33846813,  -7.00284374,  -6.01068341,  -8.52491402,\n",
      "          3.57557805,  15.71150709,  -4.96782706, -11.7536707 ],\n",
      "       [ -4.42151634,   2.36216979,   1.98126078,   2.9212637 ,\n",
      "         -1.20684664,  -4.96782706,   2.36674809,   3.93809609],\n",
      "       [-10.73718742,   5.69961693,   4.88498251,   6.85314766,\n",
      "         -2.97439786, -11.7536707 ,   3.93809609,  10.27041386]])]\n",
      "Mixing Coefficients: [0.07910727 0.30370523 0.6171875 ]\n"
     ]
    }
   ],
   "source": [
    "import numpy as np\n",
    "from scipy.stats import multivariate_normal\n",
    "\n",
    "def initialize_parameters(data, num_components):\n",
    "    num_data_points, num_features = data.shape\n",
    "    # Initialize means randomly\n",
    "    means = np.random.rand(num_components, num_features)\n",
    "    # Initialize covariances as identity matrices\n",
    "    covariances = [np.eye(num_features)] * num_components\n",
    "    # Initialize mixing coefficients uniformly\n",
    "    mixing_coefficients = np.ones(num_components) / num_components\n",
    "    return means, covariances, mixing_coefficients\n",
    "\n",
    "def expectation_step(data, means, covariances, mixing_coefficients):\n",
    "    num_data_points = len(data)\n",
    "    num_components = len(means)\n",
    "    responsibilities = np.zeros((num_data_points, num_components))\n",
    "\n",
    "    for i in range(num_data_points):\n",
    "        for j in range(num_components):\n",
    "            responsibilities[i, j] = mixing_coefficients[j] * multivariate_normal.pdf(data[i], means[j], covariances[j])\n",
    "\n",
    "    # Normalize the responsibilities\n",
    "    responsibilities /= responsibilities.sum(axis=1)[:, np.newaxis]\n",
    "\n",
    "    return responsibilities\n",
    "\n",
    "def maximization_step(data, responsibilities):\n",
    "    num_data_points, num_components = responsibilities.shape\n",
    "    num_features = data.shape[1]\n",
    "    means = np.zeros((num_components, num_features))\n",
    "    covariances = [np.zeros((num_features, num_features))] * num_components\n",
    "    mixing_coefficients = np.zeros(num_components)\n",
    "\n",
    "    for j in range(num_components):\n",
    "        # Update means\n",
    "        means[j] = np.sum(responsibilities[:, j][:, np.newaxis] * data, axis=0) / np.sum(responsibilities[:, j])\n",
    "\n",
    "        # Update covariances\n",
    "        diff = data - means[j]\n",
    "        covariances[j] = np.dot((responsibilities[:, j][:, np.newaxis] * diff).T, diff) / np.sum(responsibilities[:, j])\n",
    "\n",
    "        # Update mixing coefficients\n",
    "        mixing_coefficients[j] = np.mean(responsibilities[:, j])\n",
    "\n",
    "    return means, covariances, mixing_coefficients\n",
    "\n",
    "def em_algorithm(data, num_components, max_iterations=100, tolerance=1e-60):\n",
    "    means, covariances, mixing_coefficients = initialize_parameters(data, num_components)\n",
    "    prev_log_likelihood = float('-inf')\n",
    "\n",
    "    for iteration in range(max_iterations):\n",
    "        responsibilities = expectation_step(data, means, covariances, mixing_coefficients)\n",
    "        means, covariances, mixing_coefficients = maximization_step(data, responsibilities)\n",
    "\n",
    "        # Compute log-likelihood\n",
    "        log_likelihood = np.sum(np.log(np.sum(responsibilities, axis=1)))\n",
    "        print(f\"Likelihood difference: {log_likelihood - prev_log_likelihood}\")\n",
    "\n",
    "        # Check for convergence\n",
    "        if abs(log_likelihood - prev_log_likelihood) < tolerance:\n",
    "            break\n",
    "\n",
    "        prev_log_likelihood = log_likelihood\n",
    "\n",
    "    return means, covariances, mixing_coefficients\n",
    "\n",
    "num_components = n_comp # Number of Gaussian components\n",
    "means, covariances, mixing_coefficients = em_algorithm(synthetic_data, num_components)\n",
    "print(\"Means:\", means)\n",
    "print(\"Covariances:\", covariances)\n",
    "print(\"Mixing Coefficients:\", mixing_coefficients)"
   ]
  },
  {
   "cell_type": "code",
   "execution_count": 8,
   "id": "f55c726c",
   "metadata": {
    "pycharm": {
     "name": "#%%\n"
    }
   },
   "outputs": [
    {
     "name": "stdout",
     "output_type": "stream",
     "text": [
      "[[ 2.82256216  3.72702775  1.56627636  1.50306266  5.48765872 -5.23341079\n",
      "  -0.59475157 -1.02634069]\n",
      " [ 2.57583397  4.22895525  1.07145912  2.23256159  5.82193776 -4.86979733\n",
      "  -0.16750762 -1.74798222]\n",
      " [ 0.5595525   2.45997631  4.19127277  3.27064658 -3.16272554  0.83913899\n",
      "   0.85298938 -2.96854934]]\n",
      "[[ 2.47342384  4.22573492  1.32463424  1.99032367  5.8114155  -4.82798366\n",
      "  -0.14849662 -1.63759682]\n",
      " [ 4.11152271  0.60525725  2.437919    0.9205192  -2.22249932  4.83888045\n",
      "  -0.60607309 -5.98031584]\n",
      " [-2.86423722  4.25689187  5.71374065  5.41505262 -3.99175402 -2.75489079\n",
      "   2.07496891 -0.02623007]]\n"
     ]
    }
   ],
   "source": [
    "print(means)\n",
    "print(true_means)"
   ]
  },
  {
   "cell_type": "markdown",
   "id": "70fc1bda",
   "metadata": {
    "pycharm": {
     "name": "#%% md\n"
    }
   },
   "source": [
    "## MALA"
   ]
  },
  {
   "cell_type": "code",
   "execution_count": 9,
   "id": "07043858",
   "metadata": {
    "pycharm": {
     "name": "#%%\n"
    }
   },
   "outputs": [],
   "source": [
    "import seaborn as sns\n",
    "import autograd.numpy as np\n",
    "import pandas as pd\n",
    "import scipy.stats as st\n",
    "import matplotlib.pyplot as plt\n",
    "import torch\n",
    "# package which differentiates standard Python and Numpy code\n",
    "from autograd import grad\n",
    "# to get progress bars\n",
    "from tqdm import tqdm"
   ]
  },
  {
   "cell_type": "code",
   "execution_count": 100,
   "id": "2dd19ee4",
   "metadata": {
    "pycharm": {
     "name": "#%%\n"
    }
   },
   "outputs": [],
   "source": [
    "def accept_filter(log_ratio, x, x_init):\n",
    "\n",
    "    log_u = torch.log(torch.rand_like(log_ratio))\n",
    "    acc = log_u < log_ratio\n",
    "    x[~acc] = x_init[~acc]\n",
    "\n",
    "    return x, acc\n",
    "\n",
    "\n",
    "def get_grad_U(U):\n",
    "    \"\"\"\n",
    "    Function to get grad of input function via autodiff\n",
    "   \n",
    "    U: function with single tensor input\n",
    "    \"\"\"\n",
    "    @torch.enable_grad()\n",
    "    def grad_U(x):\n",
    "        x = x.clone().detach().requires_grad_()\n",
    "        return torch.autograd.grad(U(x).sum(), x)[0]\n",
    "    return grad_U\n",
    "\n",
    "def run_mala(target_U, grad_U, x_init, n_steps=1000, dt=0.005, beta_eff=1, with_tqdm=False,cvg=False,criterions=[0,0]):\n",
    "    \"\"\"\n",
    "    target_U: function - target potential we will run the Langevin on (negative log prob)\n",
    "    grad_U: function - grad of target_U\n",
    "    x (tensor): init points for the chains to update (batch_dim, dim)\n",
    "    dt : time step\n",
    "    beta_eff: additional control to change temperature of target U\n",
    "    cvg: bool - runs the code until convergence criterions are met. if false, uruns the code for n_steps \n",
    "    criterions: list - the two tolerances for the convergence criterions. The first one uses the empirical mean of the log_likelihood of the generated sample, the second one uses the empirical mean of the sample.\n",
    "    \"\"\"\n",
    "    def step(target_U, grad_U, x_init, n_steps, dt, beta_eff):\n",
    "        \"\"\"\n",
    "        One step of the mala algorithm. This function was created to avoid repeating the code twice.\n",
    "        \"\"\"\n",
    "        \n",
    "        x = x_init.clone()\n",
    "        x = x_init - dt * grad_U(x_init)\n",
    "        if dt > 0:\n",
    "            x += dt * np.sqrt(2 / (dt * beta_eff)) * torch.randn_like(x_init)\n",
    "\n",
    "        log_ratio = -target_U(x)\n",
    "        log_ratio -= ((x_init - x + dt * grad_U(x)) ** 2 / (4 * dt)).sum()\n",
    "        log_ratio += target_U(x_init)  # Reshape to match the shape of log_ratio\n",
    "        log_ratio += ((x - x_init + dt * grad_U(x_init)) ** 2 / (4 * dt)).sum()\n",
    "        log_ratio = beta_eff * log_ratio\n",
    "\n",
    "        x, acc = accept_filter(log_ratio, x, x_init)\n",
    "\n",
    "        accs.append(acc)\n",
    "        xs.append(x.clone())\n",
    "        x_init = x.clone().detach()\n",
    "        \n",
    "        return xs,x_init,acc\n",
    "    \n",
    "    xs = []\n",
    "    accs = []\n",
    "\n",
    "    range_ = tqdm.tqdm(range(n_steps)) if with_tqdm else range(n_steps)\n",
    "    if not cvg:\n",
    "        \n",
    "        for t in range_:\n",
    "            xs,x_init,acc = step(target_U, grad_U, x_init, n_steps, dt, beta_eff)\n",
    "            \n",
    "    \n",
    "    else:\n",
    "        t=1\n",
    "        crit_1 = np.inf\n",
    "        crit_2 = np.inf\n",
    "        sum_logprob_mala = 0\n",
    "        \n",
    "        \n",
    "        while crit_1>1e-6  or crit_2>1e-3:\n",
    "            if not xs:\n",
    "                t+=1\n",
    "                xs,x_init,acc = step(target_U, grad_U, x_init, n_steps, dt, beta_eff)\n",
    "            else:\n",
    "                xs,x_init,acc = step(target_U, grad_U, x_init, n_steps, dt, beta_eff)\n",
    "                x_temp = torch.stack(xs)\n",
    "                sum_logprob_mala += U(xs[-1])\n",
    "                crit_1 = abs(sum_logprob_mala/t - criterions[0])\n",
    "                \n",
    "                empirical_mean=(torch.sum(x_temp,dim=0)/t).T\n",
    "                crit_2 = np.linalg.norm(empirical_mean - criterions[1])\n",
    "                t+=1\n",
    "                if t%100:\n",
    "                    print(f\"iteration n°{t}\")\n",
    "        print(f\"end of the loop. Number of iterations: {t}\")\n",
    "                \n",
    "    return torch.stack(xs), torch.stack(accs)"
   ]
  },
  {
   "cell_type": "code",
   "execution_count": 69,
   "id": "56af2062",
   "metadata": {
    "pycharm": {
     "name": "#%%\n"
    }
   },
   "outputs": [],
   "source": [
    "# function that returns a function that computes the negative log probability of a given dataset\n",
    "def get_log_prob(data):\n",
    "    N = data.shape[0]\n",
    "    d = data.shape[1]\n",
    "    R = 2 * np.abs(np.log2(d))\n",
    "\n",
    "    def log_mu_prior(mu):\n",
    "        M = mu.shape[1]\n",
    "        return -(torch.norm(mu) - np.sqrt(M) * R) ** 2 * int(torch.norm(mu) > np.sqrt(M) * R)\n",
    "\n",
    "    def log_prob(mu):\n",
    "        # Compute squared distances between each data point and each mean\n",
    "        squared_distances = torch.sum((data.unsqueeze(1) - mu.t().unsqueeze(0)) ** 2, dim=2)\n",
    "\n",
    "        # Compute the log probabilities for each data point and each mixture component\n",
    "        log_probs = -0.5 * squared_distances / (1000 * data.shape[1])\n",
    "\n",
    "        # Sum over mixture components and take the log-sum-exp to compute the log probability\n",
    "        max_log_probs, _ = torch.max(log_probs, dim=1, keepdim=True)\n",
    "        log_prob_ = torch.log(torch.sum(torch.exp(log_probs - max_log_probs), dim=1)) + max_log_probs.squeeze()\n",
    "\n",
    "        return -torch.sum(log_prob_)\n",
    "\n",
    "    return log_prob"
   ]
  },
  {
   "cell_type": "code",
   "execution_count": 70,
   "id": "44185080",
   "metadata": {
    "pycharm": {
     "name": "#%%\n"
    }
   },
   "outputs": [],
   "source": [
    "M = int(np.log2(d))\n",
    "U = get_log_prob(torch.Tensor(synthetic_data))\n",
    "grad_U = get_grad_U(U)\n",
    "\n",
    "x_init = torch.Tensor(synthetic_data[:M, :].T)"
   ]
  },
  {
   "cell_type": "code",
   "execution_count": 72,
   "id": "4a55563e",
   "metadata": {},
   "outputs": [],
   "source": [
    "n_steps=50_000 #arbitrarly large number\n",
    "mean_estimates=[]\n",
    "logprob_estimates=[]\n",
    "for i in range(0,2):\n",
    "    objective_estimation, objective_accs = run_mala(U, grad_U, x_init, n_steps, dt=0.005)\n",
    "    empirical_mean=(torch.sum(objective_estimation,dim=0)/n_steps).T\n",
    "    log_prob_mala=0\n",
    "    \n",
    "    for j in range(n_steps):\n",
    "        log_prob_mala += U(objective_estimation[j])/n_steps\n",
    "    \n",
    "        mean_estimates.append(empirical_mean)\n",
    "        logprob_estimates.append(log_prob_mala)"
   ]
  },
  {
   "cell_type": "code",
   "execution_count": 81,
   "id": "002ffe7c",
   "metadata": {},
   "outputs": [],
   "source": [
    "log_prob_mala=0\n",
    "for j in range(n_steps):\n",
    "        log_prob_mala += U(objective_estimation[j])/n_steps\n",
    "    \n",
    "        mean_estimates.append(empirical_mean)\n",
    "        logprob_estimates.append(log_prob_mala)"
   ]
  },
  {
   "cell_type": "code",
   "execution_count": 82,
   "id": "36d8cc15",
   "metadata": {},
   "outputs": [],
   "source": [
    "crit1 = sum(logprob_estimates)/len(logprob_estimates)\n",
    "crit2 = sum(mean_estimates)/len(mean_estimates)"
   ]
  },
  {
   "cell_type": "code",
   "execution_count": null,
   "id": "b9f6857d",
   "metadata": {},
   "outputs": [],
   "source": [
    "xs, accs,c = run_mala(U, grad_U, x_init, dt=0.005,cvg=True,criterions=[crit1,crit2])"
   ]
  }
 ],
 "metadata": {
  "kernelspec": {
   "display_name": "Python 3 (ipykernel)",
   "language": "python",
   "name": "python3"
  },
  "language_info": {
   "codemirror_mode": {
    "name": "ipython",
    "version": 3
   },
   "file_extension": ".py",
   "mimetype": "text/x-python",
   "name": "python",
   "nbconvert_exporter": "python",
   "pygments_lexer": "ipython3",
   "version": "3.9.13"
  }
 },
 "nbformat": 4,
 "nbformat_minor": 5
}
