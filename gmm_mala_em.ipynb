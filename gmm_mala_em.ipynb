{
 "cells": [
  {
   "cell_type": "code",
   "execution_count": 1,
   "id": "df5e29a3",
   "metadata": {
    "pycharm": {
     "name": "#%%\n"
    }
   },
   "outputs": [],
   "source": [
    "import numpy as np \n",
    "import seaborn as sns\n",
    "import matplotlib.pyplot as plt"
   ]
  },
  {
   "cell_type": "markdown",
   "id": "a09ad6e6",
   "metadata": {},
   "source": [
    "## Data Generation"
   ]
  },
  {
   "cell_type": "code",
   "execution_count": 2,
   "id": "1c78b774",
   "metadata": {
    "pycharm": {
     "name": "#%%\n"
    }
   },
   "outputs": [],
   "source": [
    "d = 18\n",
    "n_comp = int(np.log2(d))\n",
    "true_means = []\n",
    "true_covs = [np.eye(2)]\n",
    "data = np.array([[0., 0.]])\n",
    "\n",
    "for _ in range(n_comp):\n",
    "    true_means.append(np.random.uniform(low=-10,high=10,size=(2, )))\n",
    "    data_ = np.random.multivariate_normal(true_means[-1], true_covs[-1], size=90)\n",
    "    data = np.vstack([data, data_])"
   ]
  },
  {
   "cell_type": "code",
   "execution_count": 3,
   "id": "a818c06d",
   "metadata": {
    "pycharm": {
     "name": "#%%\n"
    }
   },
   "outputs": [
    {
     "data": {
      "text/plain": [
       "<matplotlib.collections.PathCollection at 0x1f5eb496410>"
      ]
     },
     "execution_count": 3,
     "metadata": {},
     "output_type": "execute_result"
    },
    {
     "data": {
      "image/png": "[encoded data removed]",
      "text/plain": [
       "<Figure size 640x480 with 1 Axes>"
      ]
     },
     "metadata": {},
     "output_type": "display_data"
    }
   ],
   "source": [
    "plt.scatter(data[:, 0], data[:, 1])"
   ]
  },
  {
   "cell_type": "markdown",
   "id": "817d24b0",
   "metadata": {},
   "source": [
    "## EM algorithm"
   ]
  },
  {
   "cell_type": "markdown",
   "id": "6c73c0fd",
   "metadata": {},
   "source": [
    "### Expectation-Maximization Algorithm for Gaussian Mixture Models\n",
    "\n",
    "The Expectation-Maximization (EM) algorithm is an iterative method for finding the maximum likelihood estimates of parameters in statistical models, particularly useful for unsupervised learning tasks like clustering. In the context of Gaussian Mixture Models (GMM), the EM algorithm iteratively optimizes the parameters of multiple Gaussian distributions to fit the observed data.\n",
    "\n",
    "#### Algorithm Steps:\n",
    "\n",
    "1. **Initialization**: Start by initializing the parameters of the Gaussian components: means, covariances, and mixing coefficients.\n",
    "\n",
    "2. **Expectation Step (E-step)**:\n",
    "   - Compute the responsibilities (likelihoods) of each data point belonging to each Gaussian component.\n",
    "   - Responsibilities are computed based on the current parameters using the multivariate normal distribution.\n",
    "\n",
    "3. **Maximization Step (M-step)**:\n",
    "   - Update the parameters (means, covariances, and mixing coefficients) using the responsibilities computed in the E-step.\n",
    "   - Expressions for updating parameters:\n",
    "     - **Means**: Weighted average of data points using responsibilities.\n",
    "     - **Covariances**: Weighted covariance matrix of data points using responsibilities.\n",
    "     - **Mixing Coefficients**: Mean of responsibilities.\n",
    "\n",
    "4. **Compute Log-Likelihood**:\n",
    "   - Compute the log-likelihood of the data given the current parameters and responsibilities.\n",
    "   - Log-likelihood serves as a measure of how well the model fits the data.\n",
    "\n",
    "5. **Convergence Check**:\n",
    "   - Iterate between the E-step and M-step until convergence, typically based on a convergence criterion such as changes in log-likelihood or parameter values.\n",
    "\n",
    "#### Expressions for Updating Parameters:\n",
    "\n",
    "- **Means**: \n",
    "\n",
    "$$ \\mu_k = \\frac{\\sum_{i=1}^{N} \\gamma(z_{ik}) \\cdot x_i}{\\sum_{i=1}^{N} \\gamma(z_{ik})} $$\n",
    "\n",
    "- **Covariances**:\n",
    "  $$ \\Sigma_k = \\frac{\\sum_{i=1}^{N} \\gamma(z_{ik}) \\cdot (x_i - \\mu_k)(x_i - \\mu_k)^T}{\\sum_{i=1}^{N} \\gamma(z_{ik})} $$\n",
    "\n",
    "- **Mixing Coefficients**:\n",
    "  $$ \\pi_k = \\frac{\\sum_{i=1}^{N} \\gamma(z_{ik})}{N} $$\n",
    "\n",
    "Here, $ \\gamma(z_{ik}) $ represents the responsibility of data point $ x_i $ belonging to Gaussian component $ k $.\n",
    "\n"
   ]
  },
  {
   "cell_type": "code",
   "execution_count": 4,
   "id": "5239464c",
   "metadata": {
    "pycharm": {
     "name": "#%%\n"
    }
   },
   "outputs": [
    {
     "name": "stdout",
     "output_type": "stream",
     "text": [
      "Likelihood difference: inf\n",
      "Likelihood difference: 2.7755575615628914e-15\n",
      "Likelihood difference: 1.4432899320127039e-15\n",
      "Likelihood difference: -2.1094237467877974e-15\n",
      "Likelihood difference: -7.771561172376092e-16\n",
      "Likelihood difference: 1.1102230246251487e-16\n",
      "Likelihood difference: -2.2204460492503052e-16\n",
      "Likelihood difference: -3.3306690738754696e-16\n",
      "Likelihood difference: 6.661338147750939e-16\n",
      "Likelihood difference: -2.220446049250313e-15\n",
      "Likelihood difference: -4.440892098500626e-16\n",
      "Likelihood difference: 1.3322676295501878e-15\n",
      "Likelihood difference: -9.992007221626409e-16\n",
      "Likelihood difference: 1.6653345369377348e-15\n",
      "Likelihood difference: -6.661338147750939e-16\n",
      "Likelihood difference: -4.440892098500626e-16\n",
      "Likelihood difference: -6.661338147750939e-16\n",
      "Likelihood difference: 5.551115123125783e-16\n",
      "Likelihood difference: -3.552713678800501e-15\n",
      "Likelihood difference: 4.773959005888173e-15\n",
      "Likelihood difference: -1.5543122344752192e-15\n",
      "Likelihood difference: 6.661338147750939e-16\n",
      "Likelihood difference: 3.3306690738754696e-16\n",
      "Likelihood difference: -8.881784197001252e-16\n",
      "Likelihood difference: 6.661338147750939e-16\n",
      "Likelihood difference: 9.992007221626409e-16\n",
      "Likelihood difference: 4.440892098500626e-16\n",
      "Likelihood difference: -3.3306690738754696e-16\n",
      "Likelihood difference: -1.6653345369377348e-15\n",
      "Likelihood difference: 1.1102230246251565e-16\n",
      "Likelihood difference: -1.1102230246251565e-15\n",
      "Likelihood difference: 2.220446049250313e-15\n",
      "Likelihood difference: -1.6653345369377348e-15\n",
      "Likelihood difference: 7.771561172376096e-16\n",
      "Likelihood difference: 3.3306690738754696e-16\n",
      "Likelihood difference: 6.661338147750939e-16\n",
      "Likelihood difference: -1.1102230246251565e-16\n",
      "Likelihood difference: 4.440892098500626e-16\n",
      "Likelihood difference: 0.0\n",
      "Means: [[-2.69008343  5.8731571 ]\n",
      " [ 5.7880758  -0.14671056]\n",
      " [-3.60232283 -0.02799411]\n",
      " [ 5.7096237  -0.43514109]]\n",
      "Covariances: [array([[1.16311847, 0.21937002],\n",
      "       [0.21937002, 1.19314566]]), array([[2.66689639, 0.01018531],\n",
      "       [0.01018531, 1.83512622]]), array([[ 2.34419649, -0.38493853],\n",
      "       [-0.38493853,  1.31267539]]), array([[0.47088934, 0.20348569],\n",
      "       [0.20348569, 0.6471    ]])]\n",
      "Mixing Coefficients: [0.25203237 0.08376465 0.49865148 0.1655515 ]\n"
     ]
    }
   ],
   "source": [
    "import numpy as np\n",
    "from scipy.stats import multivariate_normal\n",
    "\n",
    "def initialize_parameters(data, num_components):\n",
    "    num_data_points, num_features = data.shape\n",
    "    # Initialize means randomly\n",
    "    means = np.random.rand(num_components, num_features)\n",
    "    # Initialize covariances as identity matrices\n",
    "    covariances = [np.eye(num_features)] * num_components\n",
    "    # Initialize mixing coefficients uniformly\n",
    "    mixing_coefficients = np.ones(num_components) / num_components\n",
    "    return means, covariances, mixing_coefficients\n",
    "\n",
    "def expectation_step(data, means, covariances, mixing_coefficients):\n",
    "    num_data_points = len(data)\n",
    "    num_components = len(means)\n",
    "    responsibilities = np.zeros((num_data_points, num_components))\n",
    "\n",
    "    for i in range(num_data_points):\n",
    "        for j in range(num_components):\n",
    "            responsibilities[i, j] = mixing_coefficients[j] * multivariate_normal.pdf(data[i], means[j], covariances[j])\n",
    "\n",
    "    # Normalize the responsibilities\n",
    "    responsibilities /= responsibilities.sum(axis=1)[:, np.newaxis]\n",
    "\n",
    "    return responsibilities\n",
    "\n",
    "def maximization_step(data, responsibilities):\n",
    "    num_data_points, num_components = responsibilities.shape\n",
    "    num_features = data.shape[1]\n",
    "    means = np.zeros((num_components, num_features))\n",
    "    covariances = [np.zeros((num_features, num_features))] * num_components\n",
    "    mixing_coefficients = np.zeros(num_components)\n",
    "\n",
    "    for j in range(num_components):\n",
    "        # Update means\n",
    "        means[j] = np.sum(responsibilities[:, j][:, np.newaxis] * data, axis=0) / np.sum(responsibilities[:, j])\n",
    "\n",
    "        # Update covariances\n",
    "        diff = data - means[j]\n",
    "        covariances[j] = np.dot((responsibilities[:, j][:, np.newaxis] * diff).T, diff) / np.sum(responsibilities[:, j])\n",
    "\n",
    "        # Update mixing coefficients\n",
    "        mixing_coefficients[j] = np.mean(responsibilities[:, j])\n",
    "\n",
    "    return means, covariances, mixing_coefficients\n",
    "\n",
    "def em_algorithm(data, num_components, max_iterations=100, tolerance=1e-60):\n",
    "    means, covariances, mixing_coefficients = initialize_parameters(data, num_components)\n",
    "    prev_log_likelihood = float('-inf')\n",
    "\n",
    "    for iteration in range(max_iterations):\n",
    "        responsibilities = expectation_step(data, means, covariances, mixing_coefficients)\n",
    "        means, covariances, mixing_coefficients = maximization_step(data, responsibilities)\n",
    "\n",
    "        # Compute log-likelihood\n",
    "        log_likelihood = np.sum(np.log(np.sum(responsibilities, axis=1)))\n",
    "        print(f\"Likelihood difference: {log_likelihood - prev_log_likelihood}\")\n",
    "\n",
    "        # Check for convergence\n",
    "        if abs(log_likelihood - prev_log_likelihood) < tolerance:\n",
    "            break\n",
    "\n",
    "        prev_log_likelihood = log_likelihood\n",
    "\n",
    "    return means, covariances, mixing_coefficients\n",
    "\n",
    "num_components = n_comp # Number of Gaussian components\n",
    "means, covariances, mixing_coefficients = em_algorithm(data, num_components)\n",
    "print(\"Means:\", means)\n",
    "print(\"Covariances:\", covariances)\n",
    "print(\"Mixing Coefficients:\", mixing_coefficients)"
   ]
  },
  {
   "cell_type": "code",
   "execution_count": 30,
   "id": "1da78199",
   "metadata": {},
   "outputs": [
    {
     "data": {
      "text/plain": [
       "[array([-2.41861803,  8.70189561]),\n",
       " array([-0.68827327,  5.45042023]),\n",
       " array([-9.05171632,  5.09111548]),\n",
       " array([-0.522462  , -1.87261415])]"
      ]
     },
     "execution_count": 30,
     "metadata": {},
     "output_type": "execute_result"
    }
   ],
   "source": [
    "true_means"
   ]
  },
  {
   "cell_type": "markdown",
   "id": "e42086e9",
   "metadata": {},
   "source": [
    "MALA"
   ]
  },
  {
   "cell_type": "code",
   "execution_count": 32,
   "id": "45588ac7",
   "metadata": {},
   "outputs": [],
   "source": [
    "def metropolis_hastings_langevin(U, grad_U, epsilon, L, current_state, num_samples):\n",
    "    \"\"\"\n",
    "    Metropolis-Hastings Langevin sampling algorithm.\n",
    "    \n",
    "    Parameters:\n",
    "        U (function): Potential energy function.\n",
    "        grad_U (function): Gradient of the potential energy function.\n",
    "        epsilon (float): Step size for Langevin dynamics.\n",
    "        L (int): Number of leapfrog steps for Langevin dynamics.\n",
    "        current_state (ndarray): Initial state of the system.\n",
    "        num_samples (int): Number of samples to generate.\n",
    "        \n",
    "    Returns:\n",
    "        samples (list): List of generated samples.\n",
    "    \"\"\"\n",
    "    samples = []\n",
    "    current_energy = U(current_state)\n",
    "    \n",
    "    for _ in range(num_samples):\n",
    "        # Propose a new state using Langevin dynamics\n",
    "        proposed_state = langevin_dynamics(grad_U, epsilon, L, current_state)\n",
    "        proposed_energy = U(proposed_state)\n",
    "        \n",
    "        # Accept or reject the proposed state based on the Metropolis-Hastings criterion\n",
    "        acceptance_prob = min(1, np.exp(current_energy - proposed_energy))\n",
    "        if np.random.rand() < acceptance_prob:\n",
    "            current_state = proposed_state\n",
    "            current_energy = proposed_energy\n",
    "        \n",
    "        samples.append(current_state)\n",
    "    \n",
    "    return samples\n",
    "\n",
    "def langevin_dynamics(grad_U, epsilon, L, current_state):\n",
    "    \"\"\"\n",
    "    Langevin dynamics algorithm for proposing new states.\n",
    "    \n",
    "    Parameters:\n",
    "        grad_U (function): Gradient of the potential energy function.\n",
    "        epsilon (float): Step size for Langevin dynamics.\n",
    "        L (int): Number of leapfrog steps for Langevin dynamics.\n",
    "        current_state (ndarray): Current state of the system.\n",
    "        \n",
    "    Returns:\n",
    "        new_state (ndarray): New proposed state.\n",
    "    \"\"\"\n",
    "    new_state = current_state.copy()\n",
    "    momentum = np.random.normal(size=current_state.shape)\n",
    "    \n",
    "    for _ in range(L):\n",
    "        momentum -= epsilon * grad_U(new_state) / 2\n",
    "        new_state += epsilon * momentum\n",
    "        momentum -= epsilon * grad_U(new_state) / 2\n",
    "    \n",
    "    return new_state\n"
   ]
  },
  {
   "cell_type": "code",
   "execution_count": null,
   "id": "9c36a68a",
   "metadata": {},
   "outputs": [],
   "source": []
  }
 ],
 "metadata": {
  "kernelspec": {
   "display_name": "Python 3 (ipykernel)",
   "language": "python",
   "name": "python3"
  },
  "language_info": {
   "codemirror_mode": {
    "name": "ipython",
    "version": 3
   },
   "file_extension": ".py",
   "mimetype": "text/x-python",
   "name": "python",
   "nbconvert_exporter": "python",
   "pygments_lexer": "ipython3",
   "version": "3.11.7"
  }
 },
 "nbformat": 4,
 "nbformat_minor": 5
}
